{
 "cells": [
  {
   "cell_type": "code",
   "execution_count": 88,
   "metadata": {},
   "outputs": [],
   "source": [
    "import urllib3\n",
    "from bs4 import BeautifulSoup\n",
    "from bs4 import NavigableString, Tag"
   ]
  },
  {
   "cell_type": "code",
   "execution_count": 82,
   "metadata": {},
   "outputs": [],
   "source": [
    "file_path = \"../input/TEST.tetml\"\n",
    "soup = BeautifulSoup(open(file_path), \"xml\")\n",
    "\n",
    "paras = soup.find_all(\"Para\")"
   ]
  },
  {
   "cell_type": "code",
   "execution_count": 127,
   "metadata": {},
   "outputs": [],
   "source": [
    "def get_content(para):\n",
    "    intact_content = []\n",
    "    boxes = para.find_all(\"Box\")\n",
    "    for box in boxes:\n",
    "        words = box.find_all(\"Word\")\n",
    "        for word in words:\n",
    "            intact_content.append(word.Text.contents[0])\n",
    "\n",
    "    intact_content = \" \".join(content for content in intact_content)\n",
    "    return intact_content"
   ]
  },
  {
   "cell_type": "code",
   "execution_count": 148,
   "metadata": {},
   "outputs": [],
   "source": [
    "def get_attributes(para):\n",
    "    box = para.find_all(\"Box\")\n",
    "    co_ordinates = {}\n",
    "    co_ordinates[\"llx\"] = box[0].get(\"llx\")\n",
    "    co_ordinates[\"lly\"] = box[0].get(\"lly\")\n",
    "    co_ordinates[\"urx\"] = box[0].get(\"urx\")\n",
    "    co_ordinates[\"ury\"] = box[0].get(\"ury\")\n",
    "    return co_ordinates\n",
    "    \n",
    "    "
   ]
  },
  {
   "cell_type": "code",
   "execution_count": 149,
   "metadata": {},
   "outputs": [
    {
     "data": {
      "text/plain": [
       "{'llx': '36.00', 'lly': '55.00', 'urx': '88.27', 'ury': '45.00'}"
      ]
     },
     "execution_count": 149,
     "metadata": {},
     "output_type": "execute_result"
    }
   ],
   "source": [
    "get_attributes(paras[0])"
   ]
  },
  {
   "cell_type": "code",
   "execution_count": 151,
   "metadata": {},
   "outputs": [
    {
     "data": {
      "text/plain": [
       "'LOCAL | A3'"
      ]
     },
     "execution_count": 151,
     "metadata": {},
     "output_type": "execute_result"
    }
   ],
   "source": [
    "get_content(paras[0])"
   ]
  },
  {
   "cell_type": "code",
   "execution_count": null,
   "metadata": {},
   "outputs": [],
   "source": []
  }
 ],
 "metadata": {
  "kernelspec": {
   "display_name": "Python 3",
   "language": "python",
   "name": "python3"
  },
  "language_info": {
   "codemirror_mode": {
    "name": "ipython",
    "version": 3
   },
   "file_extension": ".py",
   "mimetype": "text/x-python",
   "name": "python",
   "nbconvert_exporter": "python",
   "pygments_lexer": "ipython3",
   "version": "3.7.1"
  }
 },
 "nbformat": 4,
 "nbformat_minor": 2
}
