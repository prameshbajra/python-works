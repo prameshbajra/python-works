{
 "cells": [
  {
   "cell_type": "markdown",
   "metadata": {},
   "source": [
    "# Credit Card Fraud Detection"
   ]
  },
  {
   "cell_type": "markdown",
   "metadata": {},
   "source": [
    "<hr>\n",
    "\n",
    "### Algorithm used:\n",
    "\n",
    "- Isolation Forest Algorithm `Ensemble`\n",
    "- Local Outlier Factor Algorithm `Neighbors`\n",
    "<hr>\n",
    "\n",
    "### Dataset used:\n",
    "\n",
    "- CreditCard dataset from Kaggle.\n",
    "\n",
    "<hr>\n"
   ]
  },
  {
   "cell_type": "markdown",
   "metadata": {},
   "source": [
    "**Importing chainey kura haru**"
   ]
  },
  {
   "cell_type": "code",
   "execution_count": null,
   "metadata": {},
   "outputs": [],
   "source": [
    "import numpy as np\n",
    "import pandas as pd\n",
    "import seaborn as sbn\n",
    "import matplotlib.pyplot as pyplot\n",
    "import scipy"
   ]
  },
  {
   "cell_type": "code",
   "execution_count": 21,
   "metadata": {},
   "outputs": [],
   "source": [
    "credit_card_full_data = pd.read_csv(\"../input/creditcard.csv\")"
   ]
  },
  {
   "cell_type": "markdown",
   "metadata": {},
   "source": [
    "**Just to make it fast, 0.1 fraction mattra leko**\n",
    "- Also to make sure we are getting the same data always we are using `random_state = 1`"
   ]
  },
  {
   "cell_type": "code",
   "execution_count": 32,
   "metadata": {},
   "outputs": [],
   "source": [
    "credit_card_data = credit_card_full_data.sample(frac=0.1, random_state=1)"
   ]
  },
  {
   "cell_type": "markdown",
   "metadata": {},
   "source": [
    "**Histogram haru banai herrum**"
   ]
  },
  {
   "cell_type": "code",
   "execution_count": 44,
   "metadata": {
    "scrolled": true
   },
   "outputs": [],
   "source": [
    "# credit_card_data.hist(figsize=(20,20))\n",
    "# pyplot.show()"
   ]
  },
  {
   "cell_type": "markdown",
   "metadata": {},
   "source": [
    "**Hereko kati wota fraud cha , k kaso cha !!**"
   ]
  },
  {
   "cell_type": "code",
   "execution_count": 46,
   "metadata": {},
   "outputs": [],
   "source": [
    "fraud_transactions = credit_card_data[credit_card_data.Class == 1]\n",
    "valid_transactions = credit_card_data[credit_card_data.Class == 0]\n",
    "\n",
    "fraction = len(fraud_transactions) / float(len(valid_transactions))"
   ]
  },
  {
   "cell_type": "markdown",
   "metadata": {},
   "source": [
    "**Corelation Matrix ko kura**\n",
    "- Variables Haru Bich kati k relation cha. \n",
    "- Tyai lai graph ma represent ni gareko."
   ]
  },
  {
   "cell_type": "code",
   "execution_count": 50,
   "metadata": {},
   "outputs": [
    {
     "data": {
      "image/png": "[encoded data removed]",
      "text/plain": [
       "<Figure size 864x648 with 2 Axes>"
      ]
     },
     "metadata": {
      "needs_background": "light"
     },
     "output_type": "display_data"
    }
   ],
   "source": [
    "corelated_data = credit_card_data.corr()\n",
    "figure = pyplot.figure(figsize=(12,9))\n",
    "sbn.heatmap(corelated_data, vmax=.8, square=True)\n",
    "pyplot.show()"
   ]
  },
  {
   "cell_type": "markdown",
   "metadata": {},
   "source": [
    "**Since this is UNSUPERVISED**\n",
    "- Remove class label from the dataset. \n",
    "- Input ra output ma divide garryo. `Input class bahek sappai huncha, output class matra huncha.`\n"
   ]
  },
  {
   "cell_type": "code",
   "execution_count": 54,
   "metadata": {},
   "outputs": [],
   "source": [
    "columns = credit_card_data.columns.tolist()\n",
    "\n",
    "input_columns = [column for column in columns if column not in [\"Class\"]]\n",
    "output_columns = \"Class\"\n",
    "\n",
    "input_data = credit_card_data[input_columns]\n",
    "output_data = credit_card_data[output_columns]"
   ]
  },
  {
   "cell_type": "code",
   "execution_count": 62,
   "metadata": {},
   "outputs": [],
   "source": [
    "from sklearn.metrics import accuracy_score, classification_report\n",
    "from sklearn.neighbors import LocalOutlierFactor\n",
    "from sklearn.ensemble import IsolationForest"
   ]
  },
  {
   "cell_type": "code",
   "execution_count": 58,
   "metadata": {},
   "outputs": [],
   "source": [
    "state = 1\n",
    "classifiers = {\n",
    "    \"Isolation Forest\":\n",
    "    IsolationForest(\n",
    "        max_samples=len(input_data),\n",
    "        contamination=fraction,\n",
    "        random_state=state),\n",
    "    \"Local Outlier Factor\":\n",
    "    LocalOutlierFactor(\n",
    "        n_neighbors=20, contamination=fraction)\n",
    "}"
   ]
  },
  {
   "cell_type": "code",
   "execution_count": 65,
   "metadata": {},
   "outputs": [
    {
     "name": "stderr",
     "output_type": "stream",
     "text": [
      "C:\\Users\\Pramesh\\AppData\\Roaming\\Python\\Python37\\site-packages\\sklearn\\ensemble\\iforest.py:223: FutureWarning: behaviour=\"old\" is deprecated and will be removed in version 0.22. Please use behaviour=\"new\", which makes the decision_function change to match other anomaly detection algorithm API.\n",
      "  FutureWarning)\n"
     ]
    },
    {
     "name": "stdout",
     "output_type": "stream",
     "text": [
      "Errors : 71\n",
      "Accuracy : 0.99750711000316\n",
      "              precision    recall  f1-score   support\n",
      "\n",
      "           0       1.00      1.00      1.00     28432\n",
      "           1       0.28      0.29      0.28        49\n",
      "\n",
      "   micro avg       1.00      1.00      1.00     28481\n",
      "   macro avg       0.64      0.64      0.64     28481\n",
      "weighted avg       1.00      1.00      1.00     28481\n",
      "\n",
      "Errors : 97\n",
      "Accuracy : 0.9965942207085425\n",
      "              precision    recall  f1-score   support\n",
      "\n",
      "           0       1.00      1.00      1.00     28432\n",
      "           1       0.02      0.02      0.02        49\n",
      "\n",
      "   micro avg       1.00      1.00      1.00     28481\n",
      "   macro avg       0.51      0.51      0.51     28481\n",
      "weighted avg       1.00      1.00      1.00     28481\n",
      "\n"
     ]
    }
   ],
   "source": [
    "number_of_outliers = len(fraud_transactions)\n",
    "for i, (classifier_name, classifier_object) in enumerate(classifiers.items()):\n",
    "    if classifier_name == \"Local Outlier Factor\":\n",
    "        predictions = classifier_object.fit_predict(input_data)\n",
    "        scores_prediction = classifier_object.negative_outlier_factor_\n",
    "    else:\n",
    "        classifier_object.fit(input_data)\n",
    "        predictions = classifier_object.predict(input_data)\n",
    "        score_predictions = classifier_object.decision_function(input_data)\n",
    "\n",
    "    # The predictions will output -1 and 1 so , remaking them to 0 as valid and 1 as fraud ...\n",
    "    predictions[predictions == 1] = 0\n",
    "    predictions[predictions == -1] = 1\n",
    "    \n",
    "    errors = (predictions != output_data).sum()\n",
    "    \n",
    "    accuracy = accuracy_score(output_data, predictions)\n",
    "    \n",
    "    print(\"Errors : {}\".format(errors))\n",
    "    print(\"Accuracy : {}\".format(accuracy))\n",
    "    print(classification_report(output_data, predictions))"
   ]
  }
 ],
 "metadata": {
  "kernelspec": {
   "display_name": "Python 3",
   "language": "python",
   "name": "python3"
  },
  "language_info": {
   "codemirror_mode": {
    "name": "ipython",
    "version": 3
   },
   "file_extension": ".py",
   "mimetype": "text/x-python",
   "name": "python",
   "nbconvert_exporter": "python",
   "pygments_lexer": "ipython3",
   "version": "3.7.1"
  }
 },
 "nbformat": 4,
 "nbformat_minor": 2
}
