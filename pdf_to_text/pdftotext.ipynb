{
 "cells": [
  {
   "cell_type": "code",
   "execution_count": 6,
   "metadata": {},
   "outputs": [],
   "source": [
    "import sys\n",
    "\n",
    "sys.path.append(\"./TET/bind/python\")\n",
    "sys.path.append(\"./TET/bind/python/python33\")\n",
    "\n",
    "from PDFlib.TET import *\n",
    " \n",
    "pdf_obj = TET()\n",
    "pdf_obj.set_option(\"logging={filename=trace.log remove}\")\n",
    "doc_handle = pdf_obj.open_document('../input/PandasPythonForDataScience.pdf', 'tetml={elements={docinfo=true docxmp=true options=true}}')\n",
    "process_handle = pdf_obj.process_page(doc_handle, 1, 'docstyle=papers')\n",
    "\n",
    "tetml = pdf_obj.get_tetml(doc = doc_handle, optlist=\"\")\n",
    "\n",
    "# text = pdf_obj.get_text(page = doc_handle)\n",
    "with open(\"tetml.xml\", \"wb\") as file:\n",
    "    file.write(tetml)"
   ]
  },
  {
   "cell_type": "code",
   "execution_count": null,
   "metadata": {},
   "outputs": [],
   "source": []
  }
 ],
 "metadata": {
  "kernelspec": {
   "display_name": "Python 3",
   "language": "python",
   "name": "python3"
  },
  "language_info": {
   "codemirror_mode": {
    "name": "ipython",
    "version": 3
   },
   "file_extension": ".py",
   "mimetype": "text/x-python",
   "name": "python",
   "nbconvert_exporter": "python",
   "pygments_lexer": "ipython3",
   "version": "3.7.1"
  }
 },
 "nbformat": 4,
 "nbformat_minor": 2
}
