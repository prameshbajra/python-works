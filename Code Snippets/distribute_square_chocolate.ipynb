{
 "cells": [
  {
   "cell_type": "code",
   "execution_count": 4,
   "metadata": {
    "ExecuteTime": {
     "end_time": "2019-07-13T13:39:25.827574Z",
     "start_time": "2019-07-13T13:39:25.815576Z"
    }
   },
   "outputs": [],
   "source": [
    "def set_perfect_square(height, width, number_of_choco_sqs):\n",
    "    number_of_choco_sqs = number_of_choco_sqs +  height // width\n",
    "    remain_height = height - width * (height // width)\n",
    "    remain_width = width\n",
    "    if(remain_height is 0):\n",
    "        print(\"sakyo\", number_of_choco_sqs, remain_height, remain_width)\n",
    "    elif(remain_height < remain_width):\n",
    "        set_perfect_square(remain_width, remain_height, number_of_choco_sqs)\n",
    "    elif(remain_height > remain_width):\n",
    "        set_perfect_square(remain_height, remain_width, number_of_choco_sqs)"
   ]
  },
  {
   "cell_type": "code",
   "execution_count": 12,
   "metadata": {
    "ExecuteTime": {
     "end_time": "2019-07-13T13:44:31.036168Z",
     "start_time": "2019-07-13T13:44:31.027178Z"
    }
   },
   "outputs": [
    {
     "name": "stdout",
     "output_type": "stream",
     "text": [
      "sakyo 5 0 2\n",
      "sakyo 9 0 1\n",
      "sakyo 10 0 1\n",
      "sakyo 10 0 1\n"
     ]
    }
   ],
   "source": [
    "set_perfect_square(10, 2, 0)\n",
    "set_perfect_square(15, 2, 0)\n",
    "set_perfect_square(17, 8, 0)\n",
    "set_perfect_square(23, 3, 0)"
   ]
  },
  {
   "cell_type": "code",
   "execution_count": null,
   "metadata": {},
   "outputs": [],
   "source": []
  }
 ],
 "metadata": {
  "kernelspec": {
   "display_name": "Python 3",
   "language": "python",
   "name": "python3"
  },
  "language_info": {
   "codemirror_mode": {
    "name": "ipython",
    "version": 3
   },
   "file_extension": ".py",
   "mimetype": "text/x-python",
   "name": "python",
   "nbconvert_exporter": "python",
   "pygments_lexer": "ipython3",
   "version": "3.6.7"
  }
 },
 "nbformat": 4,
 "nbformat_minor": 2
}
