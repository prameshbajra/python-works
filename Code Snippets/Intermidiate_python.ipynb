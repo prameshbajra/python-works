{
 "cells": [
  {
   "cell_type": "code",
   "execution_count": 2,
   "metadata": {},
   "outputs": [
    {
     "name": "stdout",
     "output_type": "stream",
     "text": [
      "['Pramesh', 'Suzal']\n",
      "Pramesh, Suzal, Ghoda, Dai, Bhai\n",
      "My names are Pramesh, Suzal beside this people call me Ghoda, Dai, Bhai\n"
     ]
    }
   ],
   "source": [
    "# String JOIN\n",
    "places = [\"Pramesh\", \"Suzal\", \"Ghoda\", \"Dai\", \"Bhai\"]\n",
    "\n",
    "print(places[:2])\n",
    "\n",
    "places_str = ', '.join(places)\n",
    "print(places_str)\n",
    "\n",
    "# String formatting ... Python 3 , for 2 use numbers inside braces \n",
    "print('My names are {}, {} beside this people call me {}, {}, {}'\n",
    "      .format(places[0], places[1], places[2], places[3], places[4]))\n",
    "# Result :\n",
    "# My names are Pramesh, Suzal beside this people call me Ghoda, Dai, Bhai\n"
   ]
  },
  {
   "cell_type": "code",
   "execution_count": 1,
   "metadata": {},
   "outputs": [
    {
     "name": "stdout",
     "output_type": "stream",
     "text": [
      "Names =>  [0, 2, 4, 6, 8, 10, 12, 14, 16, 18, 20, 22, 24, 26, 28, 30, 32, 34, 36, 38]\n",
      "Generators =>  0\n",
      "Generators =>  1\n",
      "Generators =>  2\n",
      "Generators =>  3\n",
      "Generators =>  4\n",
      "Generators =>  5\n",
      "Generators =>  6\n",
      "Generators =>  7\n",
      "Generators =>  8\n",
      "Generators =>  9\n",
      "Generators =>  10\n",
      "Generators =>  11\n",
      "Generators =>  12\n",
      "Generators =>  13\n",
      "Generators =>  14\n",
      "Generators =>  15\n",
      "Generators =>  16\n",
      "Generators =>  17\n",
      "Generators =>  18\n",
      "Generators =>  19\n"
     ]
    },
    {
     "data": {
      "text/plain": [
       "[None,\n",
       " None,\n",
       " None,\n",
       " None,\n",
       " None,\n",
       " None,\n",
       " None,\n",
       " None,\n",
       " None,\n",
       " None,\n",
       " None,\n",
       " None,\n",
       " None,\n",
       " None,\n",
       " None,\n",
       " None,\n",
       " None,\n",
       " None,\n",
       " None,\n",
       " None]"
      ]
     },
     "execution_count": 1,
     "metadata": {},
     "output_type": "execute_result"
    }
   ],
   "source": [
    "# List creation\n",
    "# Takes time in creation of list but is faster in iteration\n",
    "names = [i + i for i in range(20)]\n",
    "print('Names => ', names)\n",
    "# Generators\n",
    "# takes less time in creation but is slower in iteration\n",
    "names = (i for i in range(20))\n",
    "\n",
    "# List comprehension \n",
    "[print(\"Generators => \", i) for i in names]"
   ]
  },
  {
   "cell_type": "code",
   "execution_count": 4,
   "metadata": {},
   "outputs": [
    {
     "name": "stdout",
     "output_type": "stream",
     "text": [
      "0 Susis\n",
      "1 Pizza\n",
      "2 Chicken\n",
      "3 Burger\n",
      "4 MAC and CHEESE\n",
      "\n",
      "0 Susis\n",
      "1 Pizza\n",
      "2 Chicken\n",
      "3 Burger\n",
      "4 MAC and CHEESE\n"
     ]
    }
   ],
   "source": [
    "# Use enumerate over for loop\n",
    "example = [\"Susis\", \"Pizza\", \"Chicken\", \"Burger\", \"MAC and CHEESE\"]\n",
    "# Not a good way to iterate ...\n",
    "for i in range(len(example)):\n",
    "    print(i, example[i])\n",
    "\n",
    "print()\n",
    "# A better way to iterate ...\n",
    "for i, j in enumerate(example):\n",
    "    print(i, j)\n"
   ]
  },
  {
   "cell_type": "code",
   "execution_count": 2,
   "metadata": {},
   "outputs": [],
   "source": [
    "# Time your code execution\n",
    "\n",
    "import timeit\n",
    "\n",
    "print(timeit.timeit('''\n",
    "def veryCode():\n",
    "    for i in range(1, 5):\n",
    "         \n",
    "veryCode()\n",
    "''', number=1000\n",
    "                    ))\n"
   ]
  },
  {
   "cell_type": "code",
   "execution_count": 2,
   "metadata": {},
   "outputs": [],
   "source": [
    "names = [\"Pramesh\", \"Suzal\", \"Iku\", \"Diya\"]\n",
    "numbers = [0, 2, 4, 6, 8, 10, 12, 14, 16, 18, 20, 22, 24, 26, 28, 30, 32, 34, 36, 38]\n",
    "new_dict = dict(enumerate(names))\n",
    "\n",
    "print([print(\"{} => \".format(i), new_dict[i]) for i in new_dict])\n",
    "\n",
    "# Appends list element by element ...\n",
    "[print(a, b) for a, b in zip(names, numbers)]\n"
   ]
  },
  {
   "cell_type": "code",
   "execution_count": 1,
   "metadata": {},
   "outputs": [
    {
     "name": "stdout",
     "output_type": "stream",
     "text": [
      "24\n"
     ]
    }
   ],
   "source": [
    "# Making my own generator\n",
    "numbers = [0, 2, 4, 6, 8, 10, 12, 14, 16, 18, 20, 22, 24, 26, 28, 30, 32, 34, 36, 38]\n",
    "\n",
    "def find24():\n",
    "    for i in numbers:\n",
    "        yield i  # this makes the function as generator\n",
    "\n",
    "for i in find24():\n",
    "    if i == 24:\n",
    "        print(i)\n",
    "        break\n"
   ]
  },
  {
   "cell_type": "code",
   "execution_count": 2,
   "metadata": {},
   "outputs": [],
   "source": [
    "import multiprocessing\n",
    "\n",
    "def simple_print(second, first):\n",
    "    print(\"I am printing this {} and {}\".format(second, first))\n",
    "\n",
    "# Need shell to run this ...\n",
    "if __name__ == '__main__':\n",
    "    multiple = multiprocessing.Process(target=simple_print, args=(\"Suzal\", \"Pramesh\"))\n",
    "    multiple.start()\n",
    "    # multiple.join()\n"
   ]
  },
  {
   "cell_type": "code",
   "execution_count": 2,
   "metadata": {
    "collapsed": true
   },
   "outputs": [
    {
     "name": "stdout",
     "output_type": "stream",
     "text": [
      "['Pizza Suzal']\n"
     ]
    }
   ],
   "source": [
    "example = [\"Pizza\", \"Chicken\", \"Burger\", \"MAC and CHEESE\"]\n",
    "names = [\"Suzal\", \"Iku\", \"Diya\"]\n",
    "\n",
    "result = [\" \".join([example[0], names[0]])]\n",
    "\n",
    "print(result)\n"
   ]
  },
  {
   "cell_type": "code",
   "execution_count": 3,
   "metadata": {},
   "outputs": [],
   "source": [
    "# Decorators \n",
    "def dec1(name):\n",
    "    def dec2():\n",
    "        return \"The name of this code is {}\".format(str(name()))\n",
    "    return dec2\n",
    "\n",
    "\n",
    "@dec1\n",
    "def use_def1():\n",
    "    return \"Pramesh\"\n",
    "\n",
    "\n",
    "print(use_def1())"
   ]
  },
  {
   "cell_type": "code",
   "execution_count": 5,
   "metadata": {},
   "outputs": [
    {
     "name": "stdout",
     "output_type": "stream",
     "text": [
      "Enter a 2 d array :: \n",
      "1 2 3 4 5 6 7 8 9\n",
      "1 2 3 4 5 6 7 8 9\n"
     ]
    }
   ],
   "source": [
    "import itertools as it\n",
    "\n",
    "print(\"Enter a 2 d array :: \")\n",
    "li = [[1,2,3],[4,5,6],[7,8,9]]\n",
    "\n",
    "# 1 2 3 4 5\n",
    "print(' '.join([str(j) for i in li for j in i ]))\n",
    "print(' '.join([str(i) for i in it.chain.from_iterable(li)]))"
   ]
  },
  {
   "cell_type": "code",
   "execution_count": 7,
   "metadata": {},
   "outputs": [
    {
     "name": "stdout",
     "output_type": "stream",
     "text": [
      "10 20 \n",
      "\n",
      "0 => 20\n",
      "0 => 21\n",
      "0 => 22\n",
      "0 => 23\n",
      "0 => 24\n",
      "0 => 25\n",
      "0 => 26\n",
      "0 => 27\n",
      "0 => 28\n",
      "0 => 29\n",
      "0 => 30\n",
      "0 => 31\n",
      "0 => 32\n",
      "0 => 33\n",
      "0 => 34\n",
      "0 => 35\n",
      "0 => 36\n",
      "0 => 37\n",
      "0 => 38\n",
      "0 => 39\n",
      "\n",
      "\n",
      "0 => 20\n",
      "1 => 21\n",
      "2 => 22\n",
      "3 => 23\n",
      "4 => 24\n",
      "5 => 25\n",
      "6 => 26\n",
      "7 => 27\n",
      "8 => 28\n",
      "9 => 29\n",
      "10 => 30\n",
      "11 => 31\n",
      "12 => 32\n",
      "13 => 33\n",
      "14 => 34\n",
      "15 => 35\n",
      "16 => 36\n",
      "17 => 37\n",
      "18 => 38\n",
      "19 => 39\n"
     ]
    }
   ],
   "source": [
    "# Understanding *args and **kwargs ...\n",
    "\n",
    "def testArgsAndKwargs(x, y, *args, **kwargs):\n",
    "    print(x, y, \"\\n\")\n",
    "\n",
    "    for count, argsElements in enumerate(args):\n",
    "        for values in argsElements:\n",
    "            print(\"{} => {}\".format(count, values))\n",
    "\n",
    "    print(\"\\n\")\n",
    "\n",
    "    for key, value in kwargs.items():\n",
    "        print(\"{} => {}\".format(key, value))\n",
    "\n",
    "\n",
    "forArgsRandom = [i for i in range(20, 40)]\n",
    "\n",
    "forKwArgsRandom = {}\n",
    "for count, element in enumerate(range(20, 40)):\n",
    "    forKwArgsRandom[str(count)] = str(element)\n",
    "\n",
    "testArgsAndKwargs(10, 20, forArgsRandom, **forKwArgsRandom)\n"
   ]
  },
  {
   "cell_type": "code",
   "execution_count": 2,
   "metadata": {},
   "outputs": [
    {
     "name": "stdout",
     "output_type": "stream",
     "text": [
      "\n",
      "This is to be shown in the output \n",
      "\n"
     ]
    }
   ],
   "source": [
    "\"\"\"\n",
    "This is to be shown in the output \n",
    "\"\"\"\n",
    "\n",
    "print(__doc__)\n"
   ]
  },
  {
   "cell_type": "markdown",
   "metadata": {},
   "source": [
    "## Lambdas in action + List Comprehension:\n"
   ]
  },
  {
   "cell_type": "code",
   "execution_count": 19,
   "metadata": {},
   "outputs": [
    {
     "name": "stdout",
     "output_type": "stream",
     "text": [
      "[50, 70, 220, 970, 540, 620, 770, 230, 730, 610]\n",
      "[5, 7, 22, 23]\n",
      "40\n"
     ]
    }
   ],
   "source": [
    "li = [5, 7, 22, 97, 54, 62, 77, 23, 73, 61]\n",
    "map_list = list(map(lambda li_item: li_item * 10, li))\n",
    "filter_list = list(filter(lambda li_item: li_item < 45, li))\n",
    "normal_anon_func = lambda *args: sum(args)\n",
    "\n",
    "print(map_list)\n",
    "print(filter_list)\n",
    "print(normal_anon_func(10,20,10))"
   ]
  }
 ],
 "metadata": {
  "kernelspec": {
   "display_name": "Python 3",
   "language": "python",
   "name": "python3"
  },
  "language_info": {
   "codemirror_mode": {
    "name": "ipython",
    "version": 3
   },
   "file_extension": ".py",
   "mimetype": "text/x-python",
   "name": "python",
   "nbconvert_exporter": "python",
   "pygments_lexer": "ipython3",
   "version": "3.7.1"
  }
 },
 "nbformat": 4,
 "nbformat_minor": 1
}
