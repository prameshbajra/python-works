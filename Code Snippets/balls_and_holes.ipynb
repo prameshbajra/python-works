{
 "cells": [
  {
   "cell_type": "code",
   "execution_count": 38,
   "metadata": {
    "ExecuteTime": {
     "end_time": "2019-07-13T14:21:09.052509Z",
     "start_time": "2019-07-13T14:21:09.040515Z"
    }
   },
   "outputs": [
    {
     "data": {
      "text/plain": [
       "[1, 0, 3, 0, 0, 3, 2, 3, 2, 0, 0, 0]"
      ]
     },
     "execution_count": 38,
     "metadata": {},
     "output_type": "execute_result"
    }
   ],
   "source": [
    "holes = [21, 3, 6]\n",
    "balls = [20 ,15 ,5 ,7, 10, 4 ,2 ,1 ,3 ,6 ,8]\n",
    "holes_object = []\n",
    "final_result = []\n",
    "\n",
    "\n",
    "for index, value in enumerate(holes):\n",
    "    holes_object.append({\n",
    "        \"index\": index + 1,\n",
    "        \"quantity\": index +  1,\n",
    "        \"diameter\": value\n",
    "    })\n",
    "\n",
    "for ball in balls:\n",
    "    ball_not_in = True\n",
    "    for hole in holes_object:\n",
    "        if(hole[\"diameter\"] >= ball and hole[\"quantity\"] is not 0):\n",
    "            hole[\"quantity\"] = hole[\"quantity\"] - 1\n",
    "            ball_not_in = False\n",
    "            final_result.append(hole[\"index\"])\n",
    "    if(ball_not_in):\n",
    "        final_result.append(0)\n",
    "        \n",
    "\n",
    "final_result"
   ]
  },
  {
   "cell_type": "code",
   "execution_count": 23,
   "metadata": {
    "ExecuteTime": {
     "end_time": "2019-07-13T14:16:41.553285Z",
     "start_time": "2019-07-13T14:16:41.545297Z"
    }
   },
   "outputs": [
    {
     "data": {
      "text/plain": [
       "11"
      ]
     },
     "execution_count": 23,
     "metadata": {},
     "output_type": "execute_result"
    }
   ],
   "source": [
    "len(balls)"
   ]
  },
  {
   "cell_type": "code",
   "execution_count": 24,
   "metadata": {
    "ExecuteTime": {
     "end_time": "2019-07-13T14:16:42.215882Z",
     "start_time": "2019-07-13T14:16:42.208868Z"
    }
   },
   "outputs": [
    {
     "data": {
      "text/plain": [
       "11"
      ]
     },
     "execution_count": 24,
     "metadata": {},
     "output_type": "execute_result"
    }
   ],
   "source": [
    "len(final_result)"
   ]
  },
  {
   "cell_type": "code",
   "execution_count": 25,
   "metadata": {
    "ExecuteTime": {
     "end_time": "2019-07-13T14:16:42.812131Z",
     "start_time": "2019-07-13T14:16:42.798138Z"
    }
   },
   "outputs": [
    {
     "name": "stdout",
     "output_type": "stream",
     "text": [
      "1 0 3 0 0 3 3 2 2 0 0 "
     ]
    }
   ],
   "source": [
    "class Hole:\n",
    "    count = 0\n",
    "    def __init__(self, diameter, size):\n",
    "        self.diameter = diameter\n",
    "        self.size = size\n",
    "    def get_size(self):\n",
    "        return self.size\n",
    "    def get_diameter(self):\n",
    "        return self.diameter\n",
    "\n",
    "holes = [21, 3, 6]\n",
    "balls = [20 ,15 ,5 ,7 ,10 ,4 ,2 ,1 ,3 ,6 ,8]\n",
    "\n",
    "hole_class = []\n",
    "for idx, diameter in enumerate(holes):\n",
    "    hole_class.append(Hole(diameter, idx+1))\n",
    "\n",
    "hole_class.reverse()\n",
    "\n",
    "\n",
    "\n",
    "for ball in balls:\n",
    "    pole_pass_count=0\n",
    "    for h in hole_class:\n",
    "        pole_pass_count = pole_pass_count + 1\n",
    "        if ball <= h.get_diameter():\n",
    "            if h.count != h.get_size():\n",
    "                print(h.get_size(), end=\" \")\n",
    "                h.count = h.count + 1\n",
    "                pole_pass_count = pole_pass_count - 1\n",
    "                break\n",
    "    if pole_pass_count == 3:\n",
    "        print(0, end=\" \")"
   ]
  },
  {
   "cell_type": "code",
   "execution_count": null,
   "metadata": {},
   "outputs": [],
   "source": []
  }
 ],
 "metadata": {
  "kernelspec": {
   "display_name": "Python 3",
   "language": "python",
   "name": "python3"
  },
  "language_info": {
   "codemirror_mode": {
    "name": "ipython",
    "version": 3
   },
   "file_extension": ".py",
   "mimetype": "text/x-python",
   "name": "python",
   "nbconvert_exporter": "python",
   "pygments_lexer": "ipython3",
   "version": "3.6.7"
  }
 },
 "nbformat": 4,
 "nbformat_minor": 2
}
