{
 "cells": [
  {
   "cell_type": "code",
   "execution_count": 26,
   "metadata": {},
   "outputs": [
    {
     "name": "stdout",
     "output_type": "stream",
     "text": [
      "140477780685472\n",
      "140477780685472\n"
     ]
    }
   ],
   "source": [
    "a = \"String_some\"\n",
    "print(id(a))\n",
    "print(id(\"String\" + \"_\" + \"some\"))\n",
    "\n"
   ]
  },
  {
   "cell_type": "code",
   "execution_count": 3,
   "metadata": {},
   "outputs": [
    {
     "name": "stdout",
     "output_type": "stream",
     "text": [
      "True\n",
      "False\n",
      "True\n"
     ]
    }
   ],
   "source": [
    "a = \"wtf\"\n",
    "b = \"wtf\"\n",
    "\n",
    "print(a is b)\n",
    "\n",
    "a = \"wtf!\"\n",
    "b = \"wtf!\"\n",
    "\n",
    "print(a is b)\n",
    "\n",
    "a, b = \"wtf!\", \"wtf!\"\n",
    "\n",
    "print(a is b)\n"
   ]
  },
  {
   "cell_type": "code",
   "execution_count": 34,
   "metadata": {},
   "outputs": [
    {
     "name": "stdout",
     "output_type": "stream",
     "text": [
      "True\n",
      "True\n",
      "False\n",
      "False\n"
     ]
    }
   ],
   "source": [
    "print(\"a\"*10 is \"aaaaaaaaaa\")\n",
    "print(\"a\"*20 is \"aaaaaaaaaaaaaaaaaaaa\")\n",
    "print(\"a\"*40 is \"aaaaaaaaaaaaaaaaaaaaaaaaaaaaaaaaaaaaaaaa\")\n",
    "print(\"a\"*21 is \"aaaaaaaaaaaaaaaaaaaaa\")  "
   ]
  },
  {
   "cell_type": "markdown",
   "metadata": {},
   "source": [
    "**All above is due to STRING INTERN**\n",
    "\n",
    "String intern is a CPython optimization that tries to use existing immutable objects in some cases rather than creating a new object every time. Of course this will be better for memory optimizations.\n",
    "\n",
    "- All length 0 and length 1 strings are interned.\n",
    "- Strings are interned at compile time ('wtf' will be interned but ''.join(['w', 't', 'f'] will not be interned)\n",
    "- Strings that are not composed of ASCII letters, digits or underscores, are not interned. This explains why 'wtf!' was not interned due to !.\n",
    "- When a and b are set to \"wtf!\" in the same line, the Python interpreter creates a new object, then references the second variable at the same time. If you do it on separate lines, it doesn’t “know” that there’s already wtf! as an object (because \"wtf!\" is not implicitly interned as per the facts mentioned above). It’s a compiler optimization and specifically applies to the interactive environment.\n",
    "- Constant folding is a technique for peephole optimization in Python. This means the expression 'a'*20 is replaced by 'aaaaaaaaaaaaaaaaaaaa' during compilation to reduce few clock cycles during runtime. Constant folding only occurs for strings having length less than 20. (Why? Imagine the size of .pyc file generated as a result of the expression 'a'*10**10)\n"
   ]
  },
  {
   "cell_type": "code",
   "execution_count": 1,
   "metadata": {},
   "outputs": [
    {
     "name": "stdout",
     "output_type": "stream",
     "text": [
      "[(5.5, 'JS'), (5.0, 'Python')]\n"
     ]
    }
   ],
   "source": [
    "some_dict = {} \n",
    "\n",
    "some_dict[5.5] = \"JS\" \n",
    "some_dict[5.0] = \"Ruby\" \n",
    "some_dict[5] = \"Python\"\n",
    "\n",
    "print([(key, value) for key, value in some_dict.items()])"
   ]
  },
  {
   "cell_type": "markdown",
   "metadata": {},
   "source": [
    "**Above is due to `\"==\"`. Python uses `==` to compare hash and Immutable objects with same value always have the same hash in Python. Hence, this happens.**"
   ]
  },
  {
   "cell_type": "code",
   "execution_count": null,
   "metadata": {},
   "outputs": [
    {
     "data": {
      "text/plain": [
       "'from_finally'"
      ]
     },
     "execution_count": 35,
     "metadata": {},
     "output_type": "execute_result"
    }
   ],
   "source": [
    "def some_func():\n",
    "    try:\n",
    "        return 'from_try'\n",
    "    finally:\n",
    "        return 'from_finally'\n",
    "    \n",
    "some_func()"
   ]
  },
  {
   "cell_type": "markdown",
   "metadata": {},
   "source": [
    "**This is because :**\n",
    "- When a return, break or continue statement is executed in the try suite of a “try…finally” statement, the finally clause is also executed ‘on the way out.\n",
    "- The return value of a function is determined by the last return statement executed. Since the finally clause always executes, a return statement executed in the finally clause will always be the last one executed."
   ]
  },
  {
   "cell_type": "code",
   "execution_count": null,
   "metadata": {},
   "outputs": [],
   "source": []
  }
 ],
 "metadata": {
  "kernelspec": {
   "display_name": "Python 2",
   "language": "python",
   "name": "python2"
  },
  "language_info": {
   "codemirror_mode": {
    "name": "ipython",
    "version": 2
   },
   "file_extension": ".py",
   "mimetype": "text/x-python",
   "name": "python",
   "nbconvert_exporter": "python",
   "pygments_lexer": "ipython2",
   "version": "2.7.15"
  }
 },
 "nbformat": 4,
 "nbformat_minor": 1
}
