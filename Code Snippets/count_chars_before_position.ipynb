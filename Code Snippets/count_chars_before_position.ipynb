{
 "cells": [
  {
   "cell_type": "code",
   "execution_count": null,
   "metadata": {},
   "outputs": [],
   "source": [
    "Problem Description\n",
    "Tahir and Mamta are woking in a project in TCS. Tahir being a problem solver came up with an interesting problem for his friend Mamta. \n",
    "\n",
    "Problem consists of a string of length N and contains only small case alphabets. \n",
    "\n",
    "It will be followed by Q queries, in which each query will contain an integer P (1<=P<=N) denoting a position within the string. \n",
    "\n",
    "Mamta's task is to find the alphabet present at that location and determine the number of occurrence of same alphabet preceding the given location P.\n",
    "\n",
    "Mamta is busy with her office work. Therefore, she asked you to help her.\n",
    "\n",
    "Constraints\n",
    "Input Format\n",
    "First line contains an integer N, denoting the length of string.\n",
    "\n",
    "Second line contains string S itself consists of small case alphabets only ('a' - 'z').\n",
    "\n",
    "Third line contains an integer Q denoting number of queries that will be asked.\n",
    "\n",
    "Next Q lines contains an integer P (1 <= P <= N) for which you need to find the number occurrence of character present at the Pth location preceeding P.\n",
    "\n",
    "Output\n",
    "Test Case\n",
    "\n",
    "Explanation\n",
    "Example 1\n",
    "\n",
    "Input\n",
    "\n",
    "9\n",
    "\n",
    "abacsddaa\n",
    "\n",
    "2\n",
    "\n",
    "9\n",
    "\n",
    "3\n",
    "\n",
    "Output\n",
    "\n",
    "3\n",
    "\n",
    "1\n",
    "\n",
    "Explanation\n",
    "\n",
    "Here Q = 2 \n",
    "\n",
    "For P=9, character at 9th location is 'a'. Number of occurrences of 'a' before P i.e., 9 is three.\n",
    "\n",
    "Similarly for P=3, 3rd character is 'a'. Number of occurrences of 'a' before P. i.e., 3 is one."
   ]
  },
  {
   "cell_type": "markdown",
   "metadata": {},
   "source": [
    "### Solution\n",
    "\n"
   ]
  },
  {
   "cell_type": "code",
   "execution_count": 17,
   "metadata": {
    "ExecuteTime": {
     "end_time": "2019-07-13T09:18:38.200364Z",
     "start_time": "2019-07-13T09:18:05.415576Z"
    }
   },
   "outputs": [
    {
     "name": "stdout",
     "output_type": "stream",
     "text": [
      "9\n",
      "abacsddaa\n",
      "2\n",
      "9\n",
      "3\n",
      "3\n",
      "1\n"
     ]
    }
   ],
   "source": [
    "len_string = int(input())\n",
    "passed_string = input()\n",
    "number_of_queries = int(input())\n",
    "queries =[]\n",
    "\n",
    "for i in range(number_of_queries):\n",
    "    queries.append(int(input()))\n",
    "\n",
    "def count_chars(string, position):\n",
    "    count = 0\n",
    "    required_char = string[position - 1]\n",
    "    for i in range(0, position - 1):\n",
    "        if(required_char == string[i]):\n",
    "            count = count + 1\n",
    "\n",
    "    return count\n",
    "\n",
    "\n",
    "for query in queries:\n",
    "    print(count_chars(passed_string, query))"
   ]
  },
  {
   "cell_type": "code",
   "execution_count": null,
   "metadata": {},
   "outputs": [],
   "source": []
  }
 ],
 "metadata": {
  "kernelspec": {
   "display_name": "Python 3",
   "language": "python",
   "name": "python3"
  },
  "language_info": {
   "codemirror_mode": {
    "name": "ipython",
    "version": 3
   },
   "file_extension": ".py",
   "mimetype": "text/x-python",
   "name": "python",
   "nbconvert_exporter": "python",
   "pygments_lexer": "ipython3",
   "version": "3.6.7"
  }
 },
 "nbformat": 4,
 "nbformat_minor": 2
}
