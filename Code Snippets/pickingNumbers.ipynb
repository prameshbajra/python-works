{
 "cells": [
  {
   "cell_type": "code",
   "execution_count": 12,
   "metadata": {
    "ExecuteTime": {
     "end_time": "2019-07-27T08:28:33.014975Z",
     "start_time": "2019-07-27T08:28:33.006985Z"
    }
   },
   "outputs": [],
   "source": [
    "def pickingNumbers(a):\n",
    "    a.sort()\n",
    "    max = 0\n",
    "    for i in range(len(a)):\n",
    "        diff_array = []\n",
    "        for j in range(i, len(a)):\n",
    "            if(abs(a[i] - a[j]) <= 1):\n",
    "                diff_array.append(a[j])\n",
    "            \n",
    "        if(len(diff_array) > max):\n",
    "            max = len(diff_array)\n",
    "    return max"
   ]
  },
  {
   "cell_type": "code",
   "execution_count": 13,
   "metadata": {
    "ExecuteTime": {
     "end_time": "2019-07-27T08:28:33.986474Z",
     "start_time": "2019-07-27T08:28:33.971477Z"
    }
   },
   "outputs": [
    {
     "data": {
      "text/plain": [
       "5"
      ]
     },
     "execution_count": 13,
     "metadata": {},
     "output_type": "execute_result"
    }
   ],
   "source": [
    "pickingNumbers([1, 2, 2, 3, 1, 2])"
   ]
  },
  {
   "cell_type": "code",
   "execution_count": 14,
   "metadata": {
    "ExecuteTime": {
     "end_time": "2019-07-27T08:28:34.681702Z",
     "start_time": "2019-07-27T08:28:34.673687Z"
    }
   },
   "outputs": [
    {
     "data": {
      "text/plain": [
       "3"
      ]
     },
     "execution_count": 14,
     "metadata": {},
     "output_type": "execute_result"
    }
   ],
   "source": [
    "pickingNumbers([4, 6, 5, 3, 3, 1])"
   ]
  },
  {
   "cell_type": "code",
   "execution_count": null,
   "metadata": {},
   "outputs": [],
   "source": []
  }
 ],
 "metadata": {
  "kernelspec": {
   "display_name": "Python 3",
   "language": "python",
   "name": "python3"
  },
  "language_info": {
   "codemirror_mode": {
    "name": "ipython",
    "version": 3
   },
   "file_extension": ".py",
   "mimetype": "text/x-python",
   "name": "python",
   "nbconvert_exporter": "python",
   "pygments_lexer": "ipython3",
   "version": "3.6.7"
  }
 },
 "nbformat": 4,
 "nbformat_minor": 2
}
