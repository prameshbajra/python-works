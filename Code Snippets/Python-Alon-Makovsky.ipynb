{
 "cells": [
  {
   "cell_type": "code",
   "execution_count": 2,
   "metadata": {
    "collapsed": false
   },
   "outputs": [
    {
     "name": "stdout",
     "output_type": "stream",
     "text": [
      "{'first_name': 'Pramesh', 'last_name': 'Bajra', 'email': 'Pramesh.Bajra@gmail.com', 'pay': 100000} {'first_name': 'Susis', 'last_name': 'Bajra', 'email': 'Susis.Bajra@gmail.com', 'pay': 9999999}\n"
     ]
    }
   ],
   "source": [
    "class Employee:\n",
    "    def __init__(self, first_name, last_name, pay):\n",
    "        self.first_name = first_name\n",
    "        self.last_name = last_name\n",
    "        self.email = '{}.{}@gmail.com'.format(first_name, last_name)\n",
    "        self.pay = pay\n",
    "\n",
    "    def getFullName(self):\n",
    "        return '{} {}'.format(self.first_name, self.last_name)\n",
    "\n",
    "\n",
    "emp1 = Employee('Pramesh', 'Bajra', 100000)\n",
    "emp2 = Employee('Susis', 'Bajra', 9999999)\n",
    "\n",
    "print(emp1.__dict__, emp2.__dict__)"
   ]
  },
  {
   "cell_type": "code",
   "execution_count": 3,
   "metadata": {},
   "outputs": [
    {
     "name": "stdout",
     "output_type": "stream",
     "text": [
      "Kilman Haok\n{'first_name': 'Kilman', 'last_name': 'Haok', 'email': 'Kilman.Haok@gmail.com', 'pay': 900, 'job_position': 'Rester'} {'first_name': 'Maichnag', 'last_name': 'Leku', 'email': 'Maichnag.Leku@gmail.com', 'pay': 100, 'job_position': 'Maester'} {'first_name': 'Mitosis', 'last_name': 'Filoa', 'email': 'Mitosis.Filoa@gmail.com', 'pay': 809, 'job_position': 'Gayster'}\n"
     ]
    }
   ],
   "source": [
    "# Inheritance ...\n",
    "\n",
    "# Check if the parent class has getFullName method\n",
    "# implemented or not, If no throw assertion error with this method ...\n",
    "assert hasattr(Employee, 'getFullName'), 'You broke it fool ...'\n",
    "\n",
    "\n",
    "class Worker(Employee):\n",
    "    def __init__(self, first_name, last_name, pay, job_position):\n",
    "        super().__init__(first_name, last_name, pay)\n",
    "        self.job_position = job_position\n",
    "\n",
    "\n",
    "worker1 = Worker('Kilman', 'Haok', 900, 'Rester')\n",
    "worker2 = Worker('Maichnag', 'Leku', 100, 'Maester')\n",
    "worker3 = Worker('Mitosis', 'Filoa', 809, 'Gayster')\n",
    "\n",
    "print(worker1.getFullName())\n",
    "\n",
    "print(worker1.__dict__, worker2.__dict__, worker3.__dict__)\n"
   ]
  },
  {
   "cell_type": "code",
   "execution_count": null,
   "metadata": {},
   "outputs": [],
   "source": []
  }
 ],
 "metadata": {
  "kernelspec": {
   "display_name": "Python 2",
   "language": "python",
   "name": "python2"
  },
  "language_info": {
   "codemirror_mode": {
    "name": "ipython",
    "version": 2
   },
   "file_extension": ".py",
   "mimetype": "text/x-python",
   "name": "python",
   "nbconvert_exporter": "python",
   "pygments_lexer": "ipython2",
   "version": "2.7.6"
  }
 },
 "nbformat": 4,
 "nbformat_minor": 0
}
