{
 "cells": [
  {
   "cell_type": "markdown",
   "metadata": {},
   "source": [
    "## The Hurdle Race:\n",
    "\n",
    "https://www.hackerrank.com/challenges/the-hurdle-race/problem"
   ]
  },
  {
   "cell_type": "markdown",
   "metadata": {},
   "source": [
    "#### 100% Passed"
   ]
  },
  {
   "cell_type": "code",
   "execution_count": 31,
   "metadata": {
    "ExecuteTime": {
     "end_time": "2019-07-15T16:38:02.988762Z",
     "start_time": "2019-07-15T16:38:02.976757Z"
    }
   },
   "outputs": [],
   "source": [
    "def hurdleRace(k, height):\n",
    "    hurdles_to_cross = [i for i in height if i > k]\n",
    "    min_val = max_val = 0\n",
    "    if(len(hurdles_to_cross) > 0):\n",
    "        max_val = max(hurdles_to_cross)\n",
    "    if(max_val - k > 0):\n",
    "        return max_val - k\n",
    "    return 0"
   ]
  },
  {
   "cell_type": "code",
   "execution_count": 32,
   "metadata": {
    "ExecuteTime": {
     "end_time": "2019-07-15T16:38:03.324760Z",
     "start_time": "2019-07-15T16:38:03.312758Z"
    }
   },
   "outputs": [
    {
     "data": {
      "text/plain": [
       "0"
      ]
     },
     "execution_count": 32,
     "metadata": {},
     "output_type": "execute_result"
    }
   ],
   "source": [
    "hurdleRace(7, [2 ,5, 4 ,5 ,2])"
   ]
  },
  {
   "cell_type": "code",
   "execution_count": 33,
   "metadata": {
    "ExecuteTime": {
     "end_time": "2019-07-15T16:38:03.774402Z",
     "start_time": "2019-07-15T16:38:03.762400Z"
    }
   },
   "outputs": [
    {
     "data": {
      "text/plain": [
       "2"
      ]
     },
     "execution_count": 33,
     "metadata": {},
     "output_type": "execute_result"
    }
   ],
   "source": [
    "hurdleRace(4, [1, 6, 3, 5, 2])"
   ]
  }
 ],
 "metadata": {
  "kernelspec": {
   "display_name": "Python 3",
   "language": "python",
   "name": "python3"
  },
  "language_info": {
   "codemirror_mode": {
    "name": "ipython",
    "version": 3
   },
   "file_extension": ".py",
   "mimetype": "text/x-python",
   "name": "python",
   "nbconvert_exporter": "python",
   "pygments_lexer": "ipython3",
   "version": "3.6.7"
  }
 },
 "nbformat": 4,
 "nbformat_minor": 2
}
