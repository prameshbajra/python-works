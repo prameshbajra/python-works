{
  "cells": [
    {
      "metadata": {
        "_uuid": "35215216b8f9720b5df06abe07f6acba0ac293c7"
      },
      "cell_type": "markdown",
      "source": "## Recap\nSo far, you have loaded your data and reviewed it with the following code. Run this cell to set up your coding environment where the previous step left off."
    },
    {
      "metadata": {
        "collapsed": true,
        "_uuid": "9f2cb0b440a594a0f1e11dc01ff0d0147e9ca8ae",
        "trusted": false
      },
      "cell_type": "code",
      "source": "# Code you have previously used to load data\nimport pandas as pd\n\n# Path of the file to read\niowa_file_path = '../input/home-data-for-ml-course/train.csv'\n\nhome_data = pd.read_csv(iowa_file_path)\n\n# Set up code checking\nfrom learntools.core import binder\nbinder.bind(globals())\nfrom learntools.machine_learning.ex3 import *\n\nprint(\"Setup Complete\")",
      "execution_count": null,
      "outputs": []
    },
    {
      "metadata": {
        "_uuid": "dd8b53079a1eb53cae7494b32bdfb43fe88a539c"
      },
      "cell_type": "markdown",
      "source": "# Exercises\n\n## Step 1: Specify Prediction Target\nSelect the target variable, which corresponds to the sales price. Save this to a new variable called `y`. You'll need to print a list of the columns to find the name of the column you need.\n"
    },
    {
      "metadata": {
        "collapsed": true,
        "_uuid": "ef3e0d3248591a6857d1800535e7dc2cee137fa5",
        "trusted": false
      },
      "cell_type": "code",
      "source": "# print the list of columns in the dataset to find the name of the prediction target\n",
      "execution_count": null,
      "outputs": []
    },
    {
      "metadata": {
        "collapsed": true,
        "_uuid": "5e1ae153aa12b8567a55a069688d09e52b4b98ef",
        "trusted": false
      },
      "cell_type": "code",
      "source": "#y = _\n\nstep_1.check()",
      "execution_count": null,
      "outputs": []
    },
    {
      "metadata": {
        "collapsed": true,
        "_uuid": "fba0acd637bea7c7b8da885ac8bc6b22594d91a5",
        "trusted": false
      },
      "cell_type": "code",
      "source": "# The lines below will show you a hint or the solution.\n# step_1.hint() \n# step_1.solution()\n",
      "execution_count": null,
      "outputs": []
    },
    {
      "metadata": {
        "_uuid": "d6e34f1ccf3e29f90d289d7210fb4558f83f7f61"
      },
      "cell_type": "markdown",
      "source": "## Step 2: Create X\nNow you will create a DataFrame called `X` holding the predictive features.\n\nSince you want only some columns from the original data, you'll first create a list with the names of the columns you want in `X`.\n\nYou'll use just the following columns in the list (you can copy and paste the whole list to save some typing, though you'll still need to add quotes):\n    * LotArea\n    * YearBuilt\n    * 1stFlrSF\n    * 2ndFlrSF\n    * FullBath\n    * BedroomAbvGr\n    * TotRmsAbvGrd\n\nAfter you've created that list of features, use it to create the DataFrame that you'll use to fit the model."
    },
    {
      "metadata": {
        "collapsed": true,
        "_uuid": "56fdd75b7495ab4989e23b3270af413abcc03099",
        "trusted": false
      },
      "cell_type": "code",
      "source": "# Create the list of features below\n# feature_names = ___\n\n# select data corresponding to features in feature_names\n#X = _\n\nstep_2.check()",
      "execution_count": null,
      "outputs": []
    },
    {
      "metadata": {
        "collapsed": true,
        "_uuid": "3eeaee87e3aa3d829d0a8354627f3390f9b72a0a",
        "trusted": false
      },
      "cell_type": "code",
      "source": "# step_2.hint()\n# step_2.solution()",
      "execution_count": null,
      "outputs": []
    },
    {
      "metadata": {
        "_uuid": "54419c4fb52817472b041354c0a3349981a90f77"
      },
      "cell_type": "markdown",
      "source": "## Review Data\nBefore building a model, take a quick look at **X** to verify it looks sensible"
    },
    {
      "metadata": {
        "collapsed": true,
        "_uuid": "bc2a2221f9ccea0baba13ec9d9997365db45dc60",
        "trusted": false
      },
      "cell_type": "code",
      "source": "# Review data\n# print description or statistics from X\n#print(_)\n\n# print the top few lines\n#print(_)\n",
      "execution_count": null,
      "outputs": []
    },
    {
      "metadata": {
        "_uuid": "7da350c6a63a9d728254d087f301a63bbeca13e5"
      },
      "cell_type": "markdown",
      "source": "## Step 3: Specify and Fit Model\nCreate a `DecisionTreeRegressor` and save it iowa_model. Ensure you've done the relevant import from sklearn to run this command.\n\nThen fit the model you just created using the data in `X` and `y` that you saved above."
    },
    {
      "metadata": {
        "collapsed": true,
        "_uuid": "37561deea451cc0c1a6e70cdd9dfff17fddc4f79",
        "trusted": false
      },
      "cell_type": "code",
      "source": "# from _ import _\n#specify the model. \n#For model reproducibility, set a numeric value for random_state when specifying the model\niowa_model = _\n\n# Fit the model\n_\n\nstep_3.check()",
      "execution_count": null,
      "outputs": []
    },
    {
      "metadata": {
        "collapsed": true,
        "_uuid": "0d7a618e2024a13be514e0d18976e92e906f84e9",
        "trusted": false
      },
      "cell_type": "code",
      "source": "# step_3.hint()\n# step_3.solution()",
      "execution_count": null,
      "outputs": []
    },
    {
      "metadata": {
        "_uuid": "945f8f75c9c0ddede1a50ea7f7c6e005bd26945e"
      },
      "cell_type": "markdown",
      "source": "## Step 4: Make Predictions\nMake predictions with the model's `predict` command using `X` as the data. Save the results to a variable called `predictions`."
    },
    {
      "metadata": {
        "collapsed": true,
        "_uuid": "005b3a713a07ab8c64dc030bd9a5ce3e92cabe28",
        "trusted": false
      },
      "cell_type": "code",
      "source": "predictions = _\nprint(predictions)\nstep_4.check()",
      "execution_count": null,
      "outputs": []
    },
    {
      "metadata": {
        "collapsed": true,
        "_uuid": "15e52fa5f558fe4633acce4303807f7ef2a92968",
        "trusted": false
      },
      "cell_type": "code",
      "source": "# step_4.hint()\n# step_4.solution()",
      "execution_count": null,
      "outputs": []
    },
    {
      "metadata": {
        "_uuid": "1c8478e96812e611cbdd9a08bf9030cc4b03b008"
      },
      "cell_type": "markdown",
      "source": "## Think About Your Results\n\nUse the `head` method to compare the top few predictions to the actual home values (in `y`) for those same homes. Anything surprising?\n\nYou'll understand why this happened if you keep going."
    },
    {
      "metadata": {
        "_uuid": "4731157fc16ccdf8ba424f1ca5c6e212ef26346c"
      },
      "cell_type": "markdown",
      "source": "\n## Keep Going\nYou've built a decision tree model.  It's natural to ask how accurate the model's predictions will be and how you can improve that. Learn how to do that with **[Model Validation](https://www.kaggle.com/dansbecker/model-validation)**.\n\n---\n**[Course Home Page](https://www.kaggle.com/learn/machine-learning)**\n\n\n"
    }
  ],
  "metadata": {
    "kernelspec": {
      "display_name": "Python 3",
      "language": "python",
      "name": "python3"
    },
    "language_info": {
      "codemirror_mode": {
        "name": "ipython",
        "version": 3
      },
      "file_extension": ".py",
      "mimetype": "text/x-python",
      "name": "python",
      "nbconvert_exporter": "python",
      "pygments_lexer": "ipython3",
      "version": "3.6.1"
    }
  },
  "nbformat": 4,
  "nbformat_minor": 1
}