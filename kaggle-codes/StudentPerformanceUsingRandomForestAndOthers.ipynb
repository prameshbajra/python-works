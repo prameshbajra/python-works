{
 "cells": [
  {
   "cell_type": "markdown",
   "metadata": {
    "_cell_guid": "b1076dfc-b9ad-4769-8c92-a6c4dae69d19",
    "_uuid": "8f2839f25d086af736a60e9eeb907d3b93b6e0e5"
   },
   "source": [
    "# Predict Using Random Forest Classifier\n",
    "\n",
    "**Libraries we are going to use** *scikit-learn* machine learning library.\n",
    "\n",
    "We are using scikit-learn Random Forest Classifier to predict, if a particular student has already completed **test preparation course** using *math, reading score,* and\t*writing scores* given.\n"
   ]
  },
  {
   "cell_type": "markdown",
   "metadata": {
    "_cell_guid": "79c7e3d0-c299-4dcb-8224-4455121ee9b0",
    "_uuid": "d629ff2d2480ee46fbb7e2d37f6b5fab8052498a",
    "collapsed": true
   },
   "source": [
    "**Import required libraries**"
   ]
  },
  {
   "cell_type": "code",
   "execution_count": 1,
   "metadata": {
    "_uuid": "4cb4e35d3c8ac8f2cd4d342d4c764a2c361902a8"
   },
   "outputs": [],
   "source": [
    "# plotting\n",
    "import pandas as pd # pandas\n",
    "import numpy as np # numpy\n",
    "\n",
    "# preprocessing\n",
    "from sklearn.preprocessing import MinMaxScaler\n",
    "from sklearn.preprocessing import LabelEncoder\n",
    "\n",
    "# classifier\n",
    "from sklearn.ensemble import RandomForestClassifier\n",
    "\n",
    "# other\n",
    "from sklearn.model_selection import train_test_split"
   ]
  },
  {
   "cell_type": "markdown",
   "metadata": {
    "_uuid": "c5a5785a173163fe0c2e94cce871f427319540c1"
   },
   "source": [
    "**Read the data from csv file**"
   ]
  },
  {
   "cell_type": "markdown",
   "metadata": {
    "_uuid": "33c680c41ed8975f978d0278ef39d675408ae5dd"
   },
   "source": [
    "Read CSV is used to CSV (Comma-separated values) file into a DataFrame. It has several useful parameters.\n",
    "<code> filepath_or_buffer</code>  is the path to the CSV file. <code>header</code> is the header column row ID\n",
    "\n",
    "<p>In  here <code> filepath_or_buffer</code> is <b>../input/StudentsPerformance.csv</b> written inside two double quotaion marks. <code>header</code> is deafult to **0**.</p>."
   ]
  },
  {
   "cell_type": "code",
   "execution_count": 2,
   "metadata": {
    "_uuid": "56bc7667fe6ad8b44c740681dc5a8b21e0a3ae99"
   },
   "outputs": [],
   "source": [
    "# read csv\n",
    "data_frame = pd.read_csv(\n",
    "    filepath_or_buffer = \"../input/StudentsPerformance.csv\", # file path of csv\n",
    "    header = 0, # header row\n",
    ")"
   ]
  },
  {
   "cell_type": "markdown",
   "metadata": {
    "_uuid": "88a553ad8c8f99f420f6d8be40adb2206a986f29"
   },
   "source": [
    "**Read top few rows from the file**"
   ]
  },
  {
   "cell_type": "markdown",
   "metadata": {
    "_uuid": "cb8674d3219903f6d99a507cf40302626d98c1fb"
   },
   "source": [
    "<code>head()</code> Row number(s) to use as the column names, and the start of the data. <code>head()</code> is **10** here, because we we want to read top 1o rows."
   ]
  },
  {
   "cell_type": "code",
   "execution_count": 3,
   "metadata": {
    "_uuid": "eec5bbc63179ea989692cafc5411fc04581b017d"
   },
   "outputs": [
    {
     "data": {
      "text/html": [
       "<div>\n",
       "<style scoped>\n",
       "    .dataframe tbody tr th:only-of-type {\n",
       "        vertical-align: middle;\n",
       "    }\n",
       "\n",
       "    .dataframe tbody tr th {\n",
       "        vertical-align: top;\n",
       "    }\n",
       "\n",
       "    .dataframe thead th {\n",
       "        text-align: right;\n",
       "    }\n",
       "</style>\n",
       "<table border=\"1\" class=\"dataframe\">\n",
       "  <thead>\n",
       "    <tr style=\"text-align: right;\">\n",
       "      <th></th>\n",
       "      <th>gender</th>\n",
       "      <th>race/ethnicity</th>\n",
       "      <th>parental level of education</th>\n",
       "      <th>lunch</th>\n",
       "      <th>test preparation course</th>\n",
       "      <th>math score</th>\n",
       "      <th>reading score</th>\n",
       "      <th>writing score</th>\n",
       "    </tr>\n",
       "  </thead>\n",
       "  <tbody>\n",
       "    <tr>\n",
       "      <th>0</th>\n",
       "      <td>female</td>\n",
       "      <td>group B</td>\n",
       "      <td>bachelor's degree</td>\n",
       "      <td>standard</td>\n",
       "      <td>none</td>\n",
       "      <td>72</td>\n",
       "      <td>72</td>\n",
       "      <td>74</td>\n",
       "    </tr>\n",
       "    <tr>\n",
       "      <th>1</th>\n",
       "      <td>female</td>\n",
       "      <td>group C</td>\n",
       "      <td>some college</td>\n",
       "      <td>standard</td>\n",
       "      <td>completed</td>\n",
       "      <td>69</td>\n",
       "      <td>90</td>\n",
       "      <td>88</td>\n",
       "    </tr>\n",
       "    <tr>\n",
       "      <th>2</th>\n",
       "      <td>female</td>\n",
       "      <td>group B</td>\n",
       "      <td>master's degree</td>\n",
       "      <td>standard</td>\n",
       "      <td>none</td>\n",
       "      <td>90</td>\n",
       "      <td>95</td>\n",
       "      <td>93</td>\n",
       "    </tr>\n",
       "    <tr>\n",
       "      <th>3</th>\n",
       "      <td>male</td>\n",
       "      <td>group A</td>\n",
       "      <td>associate's degree</td>\n",
       "      <td>free/reduced</td>\n",
       "      <td>none</td>\n",
       "      <td>47</td>\n",
       "      <td>57</td>\n",
       "      <td>44</td>\n",
       "    </tr>\n",
       "    <tr>\n",
       "      <th>4</th>\n",
       "      <td>male</td>\n",
       "      <td>group C</td>\n",
       "      <td>some college</td>\n",
       "      <td>standard</td>\n",
       "      <td>none</td>\n",
       "      <td>76</td>\n",
       "      <td>78</td>\n",
       "      <td>75</td>\n",
       "    </tr>\n",
       "    <tr>\n",
       "      <th>5</th>\n",
       "      <td>female</td>\n",
       "      <td>group B</td>\n",
       "      <td>associate's degree</td>\n",
       "      <td>standard</td>\n",
       "      <td>none</td>\n",
       "      <td>71</td>\n",
       "      <td>83</td>\n",
       "      <td>78</td>\n",
       "    </tr>\n",
       "    <tr>\n",
       "      <th>6</th>\n",
       "      <td>female</td>\n",
       "      <td>group B</td>\n",
       "      <td>some college</td>\n",
       "      <td>standard</td>\n",
       "      <td>completed</td>\n",
       "      <td>88</td>\n",
       "      <td>95</td>\n",
       "      <td>92</td>\n",
       "    </tr>\n",
       "    <tr>\n",
       "      <th>7</th>\n",
       "      <td>male</td>\n",
       "      <td>group B</td>\n",
       "      <td>some college</td>\n",
       "      <td>free/reduced</td>\n",
       "      <td>none</td>\n",
       "      <td>40</td>\n",
       "      <td>43</td>\n",
       "      <td>39</td>\n",
       "    </tr>\n",
       "    <tr>\n",
       "      <th>8</th>\n",
       "      <td>male</td>\n",
       "      <td>group D</td>\n",
       "      <td>high school</td>\n",
       "      <td>free/reduced</td>\n",
       "      <td>completed</td>\n",
       "      <td>64</td>\n",
       "      <td>64</td>\n",
       "      <td>67</td>\n",
       "    </tr>\n",
       "    <tr>\n",
       "      <th>9</th>\n",
       "      <td>female</td>\n",
       "      <td>group B</td>\n",
       "      <td>high school</td>\n",
       "      <td>free/reduced</td>\n",
       "      <td>none</td>\n",
       "      <td>38</td>\n",
       "      <td>60</td>\n",
       "      <td>50</td>\n",
       "    </tr>\n",
       "  </tbody>\n",
       "</table>\n",
       "</div>"
      ],
      "text/plain": [
       "   gender race/ethnicity parental level of education         lunch  \\\n",
       "0  female        group B           bachelor's degree      standard   \n",
       "1  female        group C                some college      standard   \n",
       "2  female        group B             master's degree      standard   \n",
       "3    male        group A          associate's degree  free/reduced   \n",
       "4    male        group C                some college      standard   \n",
       "5  female        group B          associate's degree      standard   \n",
       "6  female        group B                some college      standard   \n",
       "7    male        group B                some college  free/reduced   \n",
       "8    male        group D                 high school  free/reduced   \n",
       "9  female        group B                 high school  free/reduced   \n",
       "\n",
       "  test preparation course  math score  reading score  writing score  \n",
       "0                    none          72             72             74  \n",
       "1               completed          69             90             88  \n",
       "2                    none          90             95             93  \n",
       "3                    none          47             57             44  \n",
       "4                    none          76             78             75  \n",
       "5                    none          71             83             78  \n",
       "6               completed          88             95             92  \n",
       "7                    none          40             43             39  \n",
       "8               completed          64             64             67  \n",
       "9                    none          38             60             50  "
      ]
     },
     "execution_count": 3,
     "metadata": {},
     "output_type": "execute_result"
    }
   ],
   "source": [
    "data_frame.head(10) # top 10 rows from csv"
   ]
  },
  {
   "cell_type": "markdown",
   "metadata": {
    "_uuid": "042cd2808f4ffc6dfc3df7a8eebe8a8103859049"
   },
   "source": [
    "**Check missing values**"
   ]
  },
  {
   "cell_type": "markdown",
   "metadata": {
    "_uuid": "8b312dae0f872d45e3ad7a9e8afdb88d80e69a01"
   },
   "source": [
    ".<code>isnull()</code> and <code>sum()</code> is used to find whether there are any missing values in the CSV file."
   ]
  },
  {
   "cell_type": "code",
   "execution_count": 4,
   "metadata": {
    "_uuid": "8a46d412112d51ed0edcc62d50c22984df867666"
   },
   "outputs": [
    {
     "data": {
      "text/plain": [
       "gender                         0\n",
       "race/ethnicity                 0\n",
       "parental level of education    0\n",
       "lunch                          0\n",
       "test preparation course        0\n",
       "math score                     0\n",
       "reading score                  0\n",
       "writing score                  0\n",
       "dtype: int64"
      ]
     },
     "execution_count": 4,
     "metadata": {},
     "output_type": "execute_result"
    }
   ],
   "source": [
    "data_frame.isnull().sum() # checking missing values"
   ]
  },
  {
   "cell_type": "markdown",
   "metadata": {
    "_uuid": "92a6eb1e36bd0922a05e9d277f946e202aa1e6cd"
   },
   "source": [
    "**Creating a new data frame for data points**"
   ]
  },
  {
   "cell_type": "markdown",
   "metadata": {
    "_uuid": "b928876bc93c4074ec1556b4511b24fe995f4dca"
   },
   "source": [
    "<code>usecols</code> is used to return a **subset of the columns**. If list-like, all elements must either be positional (i.e. integer indices into the document columns) or strings that correspond to column names provided either by the user in names or inferred from the document header row(s). For example, a valid list-like usecols parameter would be [5, 6, 7] or [‘math score’, ‘reading scor’, ‘writing score’]."
   ]
  },
  {
   "cell_type": "code",
   "execution_count": 5,
   "metadata": {
    "_uuid": "ab7be777ece4ffd9679380a4252c3f66509eb302"
   },
   "outputs": [],
   "source": [
    "# get writing, reading, and math scores for a separate data frame\n",
    "ML_DataPoints = pd.read_csv(\n",
    "    filepath_or_buffer = \"../input/StudentsPerformance.csv\", # file path of csv\n",
    "    header = 0, # header row\n",
    "    usecols = ['math score',\n",
    "               'reading score',\n",
    "               'writing score'] # data points columns\n",
    ")"
   ]
  },
  {
   "cell_type": "markdown",
   "metadata": {
    "_uuid": "892f93375f27b48fa2c4893038bfba5e14a37fa3"
   },
   "source": [
    "**Creating another data frame for labels**"
   ]
  },
  {
   "cell_type": "code",
   "execution_count": 6,
   "metadata": {
    "_uuid": "2ec43d37f8227993e9777763966957a54dbd0294"
   },
   "outputs": [],
   "source": [
    "# get test preparation course values\n",
    "ML_Labels = pd.read_csv(\n",
    "    filepath_or_buffer = \"../input/StudentsPerformance.csv\", # file path of csv\n",
    "    header = 0, # header row\n",
    "    usecols = ['test preparation course'] # data points labels\n",
    ")"
   ]
  },
  {
   "cell_type": "markdown",
   "metadata": {
    "_uuid": "a49223336c494c68bd2fcd9ec32e85cb928fd57c"
   },
   "source": [
    "**Load MinMaxScaler**"
   ]
  },
  {
   "cell_type": "markdown",
   "metadata": {
    "_uuid": "47c75efbfef593efc8cd84782e339e3a00a951f1"
   },
   "source": [
    "Transforms features by s*caling each feature to a given range*.\n",
    "\n",
    "<p>This estimator scales and translates each feature individually such that it is in the given range on the training set, e.g. between zero and one.</p>"
   ]
  },
  {
   "cell_type": "code",
   "execution_count": 7,
   "metadata": {
    "_kg_hide-output": false,
    "_uuid": "33bad28dc5d7f80dc40e80c22331e5cbb0c94dbf",
    "scrolled": true
   },
   "outputs": [
    {
     "name": "stderr",
     "output_type": "stream",
     "text": [
      "/home/codemantra/anaconda3/lib/python3.7/site-packages/sklearn/preprocessing/data.py:323: DataConversionWarning: Data with input dtype int64 were all converted to float64 by MinMaxScaler.\n",
      "  return self.partial_fit(X, y)\n"
     ]
    }
   ],
   "source": [
    "# min max scaler\n",
    "MNScaler = MinMaxScaler()\n",
    "MNScaler.fit(ML_DataPoints) # fit math, reading, and writing scores\n",
    "T_DataPoints = MNScaler.transform(ML_DataPoints) # transform the scores"
   ]
  },
  {
   "cell_type": "markdown",
   "metadata": {
    "_uuid": "91e4c74983aef3a4ed17c85552415a26847c469c"
   },
   "source": [
    "**Load LabelEncoder**"
   ]
  },
  {
   "cell_type": "markdown",
   "metadata": {
    "_uuid": "cdf9d1a9494a64b9087e73951ecb35ad4732771f"
   },
   "source": [
    "Encode labels in the column *test preparation course* with value between 0 and 1. We are using RandomForestClassifier as a bianry classification because, there are only two known classes in test preparation course as *none* and *completed*."
   ]
  },
  {
   "cell_type": "code",
   "execution_count": 8,
   "metadata": {
    "_kg_hide-output": false,
    "_uuid": "d24ff51228d590fc7db530cf7b7da85f6295f9ec",
    "scrolled": true
   },
   "outputs": [
    {
     "name": "stderr",
     "output_type": "stream",
     "text": [
      "/home/codemantra/anaconda3/lib/python3.7/site-packages/sklearn/preprocessing/label.py:219: DataConversionWarning: A column-vector y was passed when a 1d array was expected. Please change the shape of y to (n_samples, ), for example using ravel().\n",
      "  y = column_or_1d(y, warn=True)\n",
      "/home/codemantra/anaconda3/lib/python3.7/site-packages/sklearn/preprocessing/label.py:252: DataConversionWarning: A column-vector y was passed when a 1d array was expected. Please change the shape of y to (n_samples, ), for example using ravel().\n",
      "  y = column_or_1d(y, warn=True)\n"
     ]
    }
   ],
   "source": [
    "# label encoder\n",
    "LEncoder = LabelEncoder()\n",
    "LEncoder.fit(ML_Labels) # fit labels\n",
    "T_Labels = LEncoder.transform(ML_Labels) # transform the labels"
   ]
  },
  {
   "cell_type": "markdown",
   "metadata": {
    "_uuid": "892099d296254f112cc76e642cbc30765dcfea3d"
   },
   "source": [
    "**Split train test data set**"
   ]
  },
  {
   "cell_type": "markdown",
   "metadata": {
    "_uuid": "bbde31b31342534ccb31c0ea3bc56fe8da933a46"
   },
   "source": [
    "Split arrays or matrices into random *train* and *test* subsets."
   ]
  },
  {
   "cell_type": "code",
   "execution_count": 9,
   "metadata": {
    "_uuid": "c429f1702af2456a165f7c33423fa52900baa9f6"
   },
   "outputs": [],
   "source": [
    "# split train test data set\n",
    "XTrain, XTest, YTrain, YTest = train_test_split(T_DataPoints, T_Labels, random_state = 10)"
   ]
  },
  {
   "cell_type": "markdown",
   "metadata": {
    "_uuid": "d8301ac736487454b8dddeb952bbe362de7346ae"
   },
   "source": [
    "## Random Forest Classifier"
   ]
  },
  {
   "cell_type": "markdown",
   "metadata": {
    "_uuid": "40eb1f5835c3bc4e8c50e25e89525a33206b9d53"
   },
   "source": [
    "**Random Forest Classifier**"
   ]
  },
  {
   "cell_type": "markdown",
   "metadata": {
    "_uuid": "6dbe85ca5be2512bf983f8821380a631dc3f06f7"
   },
   "source": [
    "<p>A random forest is* a meta estimator* that fits a number of decision tree classifiers on various sub-samples of the dataset and uses averaging to improve the predictive accuracy and control over-fitting.</p>\n",
    "\n",
    "<code>n_estimators</code> <i>integer, optional (default=10)</i>  The number of trees in the forest.<br/>\n",
    "<code>random_state</code> <i>int, RandomState instance or None, optional (default=None)</i> If int, random_state is the seed used by the random number generator.</bt>\n"
   ]
  },
  {
   "cell_type": "code",
   "execution_count": 10,
   "metadata": {
    "_uuid": "bd9c293925c960079330f0e9d5220b21e49109a9"
   },
   "outputs": [],
   "source": [
    "RandomForest = RandomForestClassifier(\n",
    "    n_estimators = 10,\n",
    "    random_state = 3\n",
    ") # load the classifier"
   ]
  },
  {
   "cell_type": "markdown",
   "metadata": {
    "_uuid": "01b1c5b309e2ec59acbdb22925cd2f6d4618c9e8"
   },
   "source": [
    "**Fit XTrain and YTrain**"
   ]
  },
  {
   "cell_type": "markdown",
   "metadata": {
    "_uuid": "8afc4b82c3f9f745a803d98a89a608e6a348858d"
   },
   "source": [
    "<code>fit(()</code>Build a forest of trees from the training set (X, y)."
   ]
  },
  {
   "cell_type": "code",
   "execution_count": 11,
   "metadata": {
    "_uuid": "337d83613f4d8497ed52ddce97a8642cad8ce374"
   },
   "outputs": [
    {
     "data": {
      "text/plain": [
       "RandomForestClassifier(bootstrap=True, class_weight=None, criterion='gini',\n",
       "            max_depth=None, max_features='auto', max_leaf_nodes=None,\n",
       "            min_impurity_decrease=0.0, min_impurity_split=None,\n",
       "            min_samples_leaf=1, min_samples_split=2,\n",
       "            min_weight_fraction_leaf=0.0, n_estimators=10, n_jobs=None,\n",
       "            oob_score=False, random_state=3, verbose=0, warm_start=False)"
      ]
     },
     "execution_count": 11,
     "metadata": {},
     "output_type": "execute_result"
    }
   ],
   "source": [
    "RandomForest.fit(XTrain, YTrain) # fit data points and labels"
   ]
  },
  {
   "cell_type": "markdown",
   "metadata": {
    "_uuid": "ea12e0cc56b07a449f31a7cd86b4243d80d99690"
   },
   "source": [
    "<code>score()</code> Returns the mean accuracy on the given test data and labels."
   ]
  },
  {
   "cell_type": "code",
   "execution_count": 12,
   "metadata": {
    "_uuid": "aebeb0f592c2589d982a08e22e149a59e4757dd0"
   },
   "outputs": [
    {
     "data": {
      "text/plain": [
       "0.9773333333333334"
      ]
     },
     "execution_count": 12,
     "metadata": {},
     "output_type": "execute_result"
    }
   ],
   "source": [
    "RandomForest.score(XTrain, YTrain)"
   ]
  },
  {
   "cell_type": "code",
   "execution_count": 13,
   "metadata": {
    "_uuid": "cc07d29e68de6dff6c278c71af285cceee3b1d9d"
   },
   "outputs": [
    {
     "data": {
      "text/plain": [
       "0.612"
      ]
     },
     "execution_count": 13,
     "metadata": {},
     "output_type": "execute_result"
    }
   ],
   "source": [
    "RandomForest.score(XTest, YTest)"
   ]
  },
  {
   "cell_type": "markdown",
   "metadata": {
    "_uuid": "df36ca9c2b514ddca172b74ba6559d4018583430"
   },
   "source": [
    "In here we created a custom <code>numpy array</code> to test the model. The data points we created in here are is from training data test. The array we used to create has <code>array([1, 1, 1, 1, 1, 0, 0, 0, 0, 0])</code> of labels."
   ]
  },
  {
   "cell_type": "code",
   "execution_count": 14,
   "metadata": {
    "_uuid": "0116764fa764356dc78769ec907d042456e6645d"
   },
   "outputs": [],
   "source": [
    "data_points= np.array ([\n",
    "    [72, 72, 74], [90, 95, 93], [47, 57, 44], [76, 78, 75], [71,83, 78], #none --> 1\n",
    "    [69, 90, 88], [88, 95, 92], [64, 64, 67], [78, 72, 70], [46, 42, 46] # completed --> 0\n",
    "\n",
    "])"
   ]
  },
  {
   "cell_type": "markdown",
   "metadata": {
    "_uuid": "02e770e27f7e878803c0fa7c54a2e44456304a6f"
   },
   "source": [
    "Preprocess the numpy array."
   ]
  },
  {
   "cell_type": "code",
   "execution_count": 15,
   "metadata": {
    "_uuid": "d8b9748670521fe2c1c96d992869a6d0111ef913"
   },
   "outputs": [],
   "source": [
    "T_Points = MNScaler.transform(data_points)"
   ]
  },
  {
   "cell_type": "markdown",
   "metadata": {
    "_uuid": "f0a3675d40ba84086ff803893388b17991cf7352"
   },
   "source": [
    "**Predict the tranformed data points**"
   ]
  },
  {
   "cell_type": "code",
   "execution_count": 18,
   "metadata": {
    "_uuid": "7fd400f68e94901d612d450954bd5d0cb118e4dc"
   },
   "outputs": [
    {
     "data": {
      "text/plain": [
       "array([1, 1, 1, 1, 1, 0, 1, 0, 0, 0])"
      ]
     },
     "execution_count": 18,
     "metadata": {},
     "output_type": "execute_result"
    }
   ],
   "source": [
    "RandomForest.predict(T_Points)"
   ]
  },
  {
   "cell_type": "markdown",
   "metadata": {
    "_uuid": "1cb05d12f63cd2ba5ab91b151fa9b04cadf12522"
   },
   "source": [
    "The predicted array list <code>array([1, 1, 1, 1, 1, 0, 1, 0, 0, 0])</code>. Only one data point is left inaccurate according to the model we have created.\n",
    "<p>This model is <code>overfitted</code> as you can see scored train data sets and test data sets."
   ]
  },
  {
   "cell_type": "code",
   "execution_count": null,
   "metadata": {},
   "outputs": [],
   "source": []
  }
 ],
 "metadata": {
  "kernelspec": {
   "display_name": "Python 3",
   "language": "python",
   "name": "python3"
  },
  "language_info": {
   "codemirror_mode": {
    "name": "ipython",
    "version": 3
   },
   "file_extension": ".py",
   "mimetype": "text/x-python",
   "name": "python",
   "nbconvert_exporter": "python",
   "pygments_lexer": "ipython3",
   "version": "3.7.1"
  }
 },
 "nbformat": 4,
 "nbformat_minor": 1
}
